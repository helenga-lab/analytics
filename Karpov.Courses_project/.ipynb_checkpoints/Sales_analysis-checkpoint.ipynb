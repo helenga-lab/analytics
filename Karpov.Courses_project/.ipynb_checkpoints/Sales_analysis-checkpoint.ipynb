{
 "cells": [
  {
   "cell_type": "markdown",
   "metadata": {},
   "source": [
    "   "
   ]
  },
  {
   "cell_type": "markdown",
   "metadata": {},
   "source": [
    "# Анализ пользовательских покупок продуктового магазина, поиск наиболее частых паттернов товаров, для оптимизации размещения продуктов в магазине."
   ]
  },
  {
   "cell_type": "markdown",
   "metadata": {},
   "source": [
    "## Исходные данные - выгрузка информации о покупках, где:\n",
    "\n",
    "- id – означает покупку (в одну покупку входят все товары, купленные пользователем во время 1 похода в магазин)\n",
    "- Товар – наименование товара\n",
    "- Количество – число единиц купленного товара\n",
    "\n",
    "Формат представления исходных данных - текстовый файл csv.\n"
   ]
  },
  {
   "cell_type": "markdown",
   "metadata": {},
   "source": [
    "## Требования к структуре результирующей таблицы:\n",
    "\n",
    "- 1_Товар – наименование первого товара\n",
    "- 2_Товар – наименование второго товара\n",
    "- Встречаемость – число раз, когда такая пара была встречена"
   ]
  },
  {
   "cell_type": "markdown",
   "metadata": {},
   "source": [
    "### 1 - Загрузка необходимых библиотек"
   ]
  },
  {
   "cell_type": "code",
   "execution_count": 163,
   "metadata": {},
   "outputs": [],
   "source": [
    "import pandas as pd\n",
    "import missingno as msno\n",
    "\n",
    "import collections\n",
    "import itertools\n",
    "from itertools import combinations\n",
    "from collections import Counter\n",
    "\n",
    "import seaborn as sns"
   ]
  },
  {
   "cell_type": "markdown",
   "metadata": {},
   "source": [
    "### 2- Предварительный анализ"
   ]
  },
  {
   "cell_type": "code",
   "execution_count": 164,
   "metadata": {},
   "outputs": [],
   "source": [
    "#загрузка данных в датафрейм data\n",
    "\n",
    "data = pd.read_csv(r'C:\\Users\\MiPro\\Desktop\\_AnaliticaCourse_II\\final_project\\test1_completed.csv')"
   ]
  },
  {
   "cell_type": "code",
   "execution_count": 165,
   "metadata": {},
   "outputs": [
    {
     "data": {
      "text/plain": [
       "(43514, 3)"
      ]
     },
     "execution_count": 165,
     "metadata": {},
     "output_type": "execute_result"
    }
   ],
   "source": [
    "#посмотрим на структуру наших данных\n",
    "data.shape"
   ]
  },
  {
   "cell_type": "markdown",
   "metadata": {},
   "source": [
    "таблица содержит 3 столбца и 43514 строк"
   ]
  },
  {
   "cell_type": "code",
   "execution_count": 166,
   "metadata": {},
   "outputs": [
    {
     "data": {
      "text/html": [
       "<div>\n",
       "<style scoped>\n",
       "    .dataframe tbody tr th:only-of-type {\n",
       "        vertical-align: middle;\n",
       "    }\n",
       "\n",
       "    .dataframe tbody tr th {\n",
       "        vertical-align: top;\n",
       "    }\n",
       "\n",
       "    .dataframe thead th {\n",
       "        text-align: right;\n",
       "    }\n",
       "</style>\n",
       "<table border=\"1\" class=\"dataframe\">\n",
       "  <thead>\n",
       "    <tr style=\"text-align: right;\">\n",
       "      <th></th>\n",
       "      <th>id</th>\n",
       "      <th>Товар</th>\n",
       "      <th>Количество</th>\n",
       "    </tr>\n",
       "  </thead>\n",
       "  <tbody>\n",
       "    <tr>\n",
       "      <th>0</th>\n",
       "      <td>17119</td>\n",
       "      <td>Лимон</td>\n",
       "      <td>1.1</td>\n",
       "    </tr>\n",
       "    <tr>\n",
       "      <th>1</th>\n",
       "      <td>17119</td>\n",
       "      <td>Лимон оранжевый</td>\n",
       "      <td>0.7</td>\n",
       "    </tr>\n",
       "    <tr>\n",
       "      <th>2</th>\n",
       "      <td>17119</td>\n",
       "      <td>Лук-порей</td>\n",
       "      <td>10.0</td>\n",
       "    </tr>\n",
       "    <tr>\n",
       "      <th>3</th>\n",
       "      <td>17119</td>\n",
       "      <td>Лук репчатый</td>\n",
       "      <td>2.5</td>\n",
       "    </tr>\n",
       "    <tr>\n",
       "      <th>4</th>\n",
       "      <td>17119</td>\n",
       "      <td>Малина свежая</td>\n",
       "      <td>1.0</td>\n",
       "    </tr>\n",
       "  </tbody>\n",
       "</table>\n",
       "</div>"
      ],
      "text/plain": [
       "      id            Товар  Количество\n",
       "0  17119            Лимон         1.1\n",
       "1  17119  Лимон оранжевый         0.7\n",
       "2  17119        Лук-порей        10.0\n",
       "3  17119     Лук репчатый         2.5\n",
       "4  17119    Малина свежая         1.0"
      ]
     },
     "execution_count": 166,
     "metadata": {},
     "output_type": "execute_result"
    }
   ],
   "source": [
    "#для ознакомления с общим видом исходной таблицы выведем первые 5 строк\n",
    "\n",
    "data.head(5)"
   ]
  },
  {
   "cell_type": "code",
   "execution_count": 167,
   "metadata": {},
   "outputs": [],
   "source": [
    "#таблица имеет 3 колонки, 2 из которых имеют кириллические названия\n",
    "#переименуем колонки в названия с латинскими символами\n",
    "\n",
    "data = data.rename(columns = {'Товар':'tovar', 'Количество':'num'})"
   ]
  },
  {
   "cell_type": "code",
   "execution_count": 168,
   "metadata": {},
   "outputs": [],
   "source": [
    "#Проверим исходные данные на наличие пропусков"
   ]
  },
  {
   "cell_type": "code",
   "execution_count": 169,
   "metadata": {},
   "outputs": [
    {
     "data": {
      "text/plain": [
       "id       0\n",
       "tovar    0\n",
       "num      0\n",
       "dtype: int64"
      ]
     },
     "execution_count": 169,
     "metadata": {},
     "output_type": "execute_result"
    }
   ],
   "source": [
    "data.isna().sum()"
   ]
  },
  {
   "cell_type": "code",
   "execution_count": 170,
   "metadata": {},
   "outputs": [
    {
     "data": {
      "text/plain": [
       "<matplotlib.axes._subplots.AxesSubplot at 0x13f9b0382c8>"
      ]
     },
     "execution_count": 170,
     "metadata": {},
     "output_type": "execute_result"
    },
    {
     "data": {
      "image/png": "[encoded data removed]",
      "text/plain": [
       "<Figure size 1800x720 with 2 Axes>"
      ]
     },
     "metadata": {},
     "output_type": "display_data"
    }
   ],
   "source": [
    "#ещё один наглядный способ проверки на пропуски - визуализация пропущенных значений с помощью библиотеки missingno\n",
    "msno.matrix(data)"
   ]
  },
  {
   "cell_type": "markdown",
   "metadata": {},
   "source": [
    "В исходной таблице нет пропущенных значений, можно переходить к дальнейшему анализу"
   ]
  },
  {
   "cell_type": "code",
   "execution_count": 171,
   "metadata": {},
   "outputs": [
    {
     "data": {
      "text/plain": [
       "199"
      ]
     },
     "execution_count": 171,
     "metadata": {},
     "output_type": "execute_result"
    }
   ],
   "source": [
    "#посмотри какое количество уникальных товаров представлено в таблице\n",
    "data['tovar'].nunique() "
   ]
  },
  {
   "cell_type": "markdown",
   "metadata": {},
   "source": [
    "Ассортимент магазина содержит практически 200 продуктовых товаров"
   ]
  },
  {
   "cell_type": "code",
   "execution_count": 172,
   "metadata": {},
   "outputs": [
    {
     "data": {
      "text/plain": [
       "array(['Лимон', 'Лимон оранжевый', 'Лук-порей', 'Лук репчатый',\n",
       "       'Малина свежая', 'Морковь немытая', 'Черешня сушеная',\n",
       "       'Изюм Султана', 'Капуста цветная', 'Бразильский орех',\n",
       "       'Дыня Гуляби', 'Шпинат мини', 'Изюм Голд', 'Огурцы Луховицкие',\n",
       "       'Чеснок весовой', 'Огурцы Белоруссия', 'Черешня отборная',\n",
       "       'Абрикосы молдавские', 'Кукуруза мини', 'Грибы лисички',\n",
       "       'Слива Президент', 'Апельсины столовые', 'Кукуруза свежая',\n",
       "       'Салат Руккола', 'Гранат', 'Подпись открытки', 'Лук зеленый',\n",
       "       'Цукаты (брусочки)', 'Кокос питьевой', 'Петрушка',\n",
       "       'Помидоры Парадайз', 'Ягоды Годжи', 'Укроп', 'Черника свежая',\n",
       "       'Персики', 'Арбуз', 'Салат Айсберг', 'Галангал корень',\n",
       "       'Петрушка Кудрявая', 'Яблоки Гала', 'Курага коричневая',\n",
       "       'Горох стручковый', 'Персики узбекские', 'Персик сушеный',\n",
       "       'Груша Форел', 'Яблоки Айдаред', 'Яблоки Симиренко', 'Кабачки',\n",
       "       'Кинза', 'Морковь мытая', 'Капуста Кольраби', 'Груша Аббат',\n",
       "       'Шпинат', 'Вишня садовая', 'Сахар-песок, 5кг', 'Сельдерей корень',\n",
       "       'Груша Пакхам', 'Чеснок молодой', 'Мандарины', 'Мангостин свежий',\n",
       "       'Груша садовая', 'Помидоры черри', 'Бананы мини',\n",
       "       'Баклажаны грунтовые', 'Салат Романо', 'Яблоки Мутсу',\n",
       "       'Компотная смесь', 'Курага темно-оранжевая', 'Дыня цукаты',\n",
       "       'Миндаль жареный', 'Урюк сушеный', 'Лайм', 'Пекан очищенный',\n",
       "       'Салат Фриллис', 'Бананы', 'Салат Корн', 'Инжир сушеный',\n",
       "       'Инжир свежий', 'Груша вяленая', 'Салат Радичио',\n",
       "       'Кумкват сушеный', 'Персики армянские', 'Щавель',\n",
       "       'Огурцы длинноплодные', 'Малина садовая', 'Букет \"Фаворит\"',\n",
       "       'Семена льна', 'Базилик красный', 'Тыква', 'Сельдерей лист',\n",
       "       'Персики азербайджанские', 'Вишня вяленая', 'Миндаль сырой',\n",
       "       'Кабачки желтые', 'Яблоки Голден', 'Базилик зеленый',\n",
       "       'Фундук жареный', 'Кизил свежий', 'Боярышник сушеный',\n",
       "       'Огурцы Миринда', 'Букет \"Брокколи\"', 'Помидоры дагестанские',\n",
       "       'Салат Китайский', 'Груша Конференц', 'Огурцы Кураж',\n",
       "       'Фасоль стручковая', 'Цуккини', 'Мята', 'Кунжут белый',\n",
       "       'Слива красная', 'Букет \"Кассиопея\"', 'Салат Фризе',\n",
       "       'Барбарис сушеный', 'Шалфей', 'Манго зеленое', 'Открытка Love',\n",
       "       'Яблоки Джонаголд', 'Лук-шалот', 'Огурцы бакинские',\n",
       "       'Помело сушеное', 'Ананасовые кольца', 'Рамбутан', 'Кешью сырой',\n",
       "       'Яблоки Чемпион', 'Редис', 'Тамарилло', 'Капуста Савойская',\n",
       "       'Свекла', 'Грибы вешенки', 'Абрикос вяленый', 'Рычал-Су, 1л',\n",
       "       'Букет \"Закат\"', 'Дыня Колхозница', 'Тыква миндальная',\n",
       "       'Яблоки сушеные', 'Капуста белокочанная', 'Финики королевские',\n",
       "       'Банановые чипсы', 'Кокосовая стружка', 'Грибы шампиньоны',\n",
       "       'Фенхель свежий', 'Салат микс', 'Папайя сушеная', 'Манго цукаты',\n",
       "       'Папайя', 'Манго желтое', 'Нектарины', 'Ананас Gold',\n",
       "       'Картофель черри', 'Авокадо ХАСС',\n",
       "       'Цыпленок-корнишон замороженный', 'Арбуз овальный',\n",
       "       'Пастернак корень', 'Баклажаны белые', 'Букет \"Оазис\"',\n",
       "       'Брусника свежая', 'Кешью жареный', 'Букет \"Колорит\"', 'Курага',\n",
       "       'Миндальные лепестки', 'Лонган', 'Розмарин', 'Грибы Еринги',\n",
       "       'Слива азербайджанская', 'Имбирь корень', 'Тимьян (чабрец)',\n",
       "       'Крыжовник свежий', 'Кролик фермерский', 'Шиповник',\n",
       "       'Грейпфрут красный', 'Изюм Малаяр', 'Букет \"Оранж\"',\n",
       "       'Салат Московский', 'Алыча вяленая', 'Кунжут черный', 'Облепиха',\n",
       "       'Пленка пищевая', 'Клубника сушеная', 'Лук-резанец (шнитт-лук)',\n",
       "       'Цукаты (шайбы)', 'Киви', 'Тархун (эстрагон)', 'Яблоки сезонные',\n",
       "       'Ежевика свежая', 'Цукаты (лепестки)', 'Семена Чиа', 'Салат Латук',\n",
       "       'Маракуйя', 'Мак пищевой', 'Кумкват свежий', 'Дыня \"Косичка\"',\n",
       "       'Физалис', 'Яблоки Фуджи', 'Фундук сырой', 'Помело',\n",
       "       'Капуста краснокочанная', 'Лемонграсс', 'Авокадо стандарт',\n",
       "       'Малина сушеная'], dtype=object)"
      ]
     },
     "execution_count": 172,
     "metadata": {},
     "output_type": "execute_result"
    }
   ],
   "source": [
    "#Так как ассортимент не очень большой посмотрим, что он содержит и выведем уникальные названия товаров\n",
    "data['tovar'].unique()"
   ]
  },
  {
   "cell_type": "markdown",
   "metadata": {},
   "source": [
    "Как видим продукты, содержащиеся в таблице представляют собой овощи, фрукты, травы.\n",
    "\n",
    "Некоторые сомнения вызывает товар с названием 'Подпись открытки'. Возможно, некорректный перевод..."
   ]
  },
  {
   "cell_type": "markdown",
   "metadata": {},
   "source": [
    "### 3 - Поиск продуктов, наиболее часто покупаемых вместе"
   ]
  },
  {
   "cell_type": "markdown",
   "metadata": {},
   "source": [
    "Перейдем к поиску ответа на оcновной впорос - какие продукты покупают одновременно наиболее часто?"
   ]
  },
  {
   "cell_type": "code",
   "execution_count": 173,
   "metadata": {},
   "outputs": [],
   "source": [
    "#указываем какое количество товаров должно содержаться в группе - 2\n",
    "#создаем все возможные комбинации товаров по 199 имеющимся товарам\n",
    "#считаем встречаемость паттернов в покупках\n",
    "\n",
    "agg_ = lambda x: tuple(itertools.combinations(x, 2))\n",
    "product = list(itertools.chain(*data.groupby('id').agg({'tovar': lambda x: agg_(sorted(x))}).tovar))\n",
    "\n",
    "counts = Counter(product)"
   ]
  },
  {
   "cell_type": "code",
   "execution_count": 174,
   "metadata": {},
   "outputs": [],
   "source": [
    "data_count = pd.DataFrame(list(counts.items()), columns=['combination', 'count'])"
   ]
  },
  {
   "cell_type": "code",
   "execution_count": 175,
   "metadata": {},
   "outputs": [
    {
     "data": {
      "text/html": [
       "<div>\n",
       "<style scoped>\n",
       "    .dataframe tbody tr th:only-of-type {\n",
       "        vertical-align: middle;\n",
       "    }\n",
       "\n",
       "    .dataframe tbody tr th {\n",
       "        vertical-align: top;\n",
       "    }\n",
       "\n",
       "    .dataframe thead th {\n",
       "        text-align: right;\n",
       "    }\n",
       "</style>\n",
       "<table border=\"1\" class=\"dataframe\">\n",
       "  <thead>\n",
       "    <tr style=\"text-align: right;\">\n",
       "      <th></th>\n",
       "      <th>combination</th>\n",
       "      <th>count</th>\n",
       "    </tr>\n",
       "  </thead>\n",
       "  <tbody>\n",
       "    <tr>\n",
       "      <th>0</th>\n",
       "      <td>(Лимон, Лимон оранжевый)</td>\n",
       "      <td>31</td>\n",
       "    </tr>\n",
       "    <tr>\n",
       "      <th>1</th>\n",
       "      <td>(Лимон, Лук репчатый)</td>\n",
       "      <td>114</td>\n",
       "    </tr>\n",
       "    <tr>\n",
       "      <th>2</th>\n",
       "      <td>(Лимон, Лук-порей)</td>\n",
       "      <td>40</td>\n",
       "    </tr>\n",
       "    <tr>\n",
       "      <th>3</th>\n",
       "      <td>(Лимон, Малина свежая)</td>\n",
       "      <td>25</td>\n",
       "    </tr>\n",
       "    <tr>\n",
       "      <th>4</th>\n",
       "      <td>(Лимон, Морковь немытая)</td>\n",
       "      <td>80</td>\n",
       "    </tr>\n",
       "  </tbody>\n",
       "</table>\n",
       "</div>"
      ],
      "text/plain": [
       "                combination  count\n",
       "0  (Лимон, Лимон оранжевый)     31\n",
       "1     (Лимон, Лук репчатый)    114\n",
       "2        (Лимон, Лук-порей)     40\n",
       "3    (Лимон, Малина свежая)     25\n",
       "4  (Лимон, Морковь немытая)     80"
      ]
     },
     "execution_count": 175,
     "metadata": {},
     "output_type": "execute_result"
    }
   ],
   "source": [
    "data_count.head()"
   ]
  },
  {
   "cell_type": "markdown",
   "metadata": {},
   "source": [
    "Преобразуем полученную таблицу к виду: Товар1, Товар2, встречаемость"
   ]
  },
  {
   "cell_type": "code",
   "execution_count": 176,
   "metadata": {},
   "outputs": [],
   "source": [
    "data_count[['1_Товар','2_Товар']] = pd.DataFrame(data_count.combination.tolist(), index= data_count.index)"
   ]
  },
  {
   "cell_type": "code",
   "execution_count": 177,
   "metadata": {},
   "outputs": [
    {
     "data": {
      "text/html": [
       "<div>\n",
       "<style scoped>\n",
       "    .dataframe tbody tr th:only-of-type {\n",
       "        vertical-align: middle;\n",
       "    }\n",
       "\n",
       "    .dataframe tbody tr th {\n",
       "        vertical-align: top;\n",
       "    }\n",
       "\n",
       "    .dataframe thead th {\n",
       "        text-align: right;\n",
       "    }\n",
       "</style>\n",
       "<table border=\"1\" class=\"dataframe\">\n",
       "  <thead>\n",
       "    <tr style=\"text-align: right;\">\n",
       "      <th></th>\n",
       "      <th>combination</th>\n",
       "      <th>count</th>\n",
       "      <th>1_Товар</th>\n",
       "      <th>2_Товар</th>\n",
       "    </tr>\n",
       "  </thead>\n",
       "  <tbody>\n",
       "    <tr>\n",
       "      <th>0</th>\n",
       "      <td>(Лимон, Лимон оранжевый)</td>\n",
       "      <td>31</td>\n",
       "      <td>Лимон</td>\n",
       "      <td>Лимон оранжевый</td>\n",
       "    </tr>\n",
       "    <tr>\n",
       "      <th>1</th>\n",
       "      <td>(Лимон, Лук репчатый)</td>\n",
       "      <td>114</td>\n",
       "      <td>Лимон</td>\n",
       "      <td>Лук репчатый</td>\n",
       "    </tr>\n",
       "    <tr>\n",
       "      <th>2</th>\n",
       "      <td>(Лимон, Лук-порей)</td>\n",
       "      <td>40</td>\n",
       "      <td>Лимон</td>\n",
       "      <td>Лук-порей</td>\n",
       "    </tr>\n",
       "    <tr>\n",
       "      <th>3</th>\n",
       "      <td>(Лимон, Малина свежая)</td>\n",
       "      <td>25</td>\n",
       "      <td>Лимон</td>\n",
       "      <td>Малина свежая</td>\n",
       "    </tr>\n",
       "    <tr>\n",
       "      <th>4</th>\n",
       "      <td>(Лимон, Морковь немытая)</td>\n",
       "      <td>80</td>\n",
       "      <td>Лимон</td>\n",
       "      <td>Морковь немытая</td>\n",
       "    </tr>\n",
       "  </tbody>\n",
       "</table>\n",
       "</div>"
      ],
      "text/plain": [
       "                combination  count 1_Товар          2_Товар\n",
       "0  (Лимон, Лимон оранжевый)     31   Лимон  Лимон оранжевый\n",
       "1     (Лимон, Лук репчатый)    114   Лимон     Лук репчатый\n",
       "2        (Лимон, Лук-порей)     40   Лимон        Лук-порей\n",
       "3    (Лимон, Малина свежая)     25   Лимон    Малина свежая\n",
       "4  (Лимон, Морковь немытая)     80   Лимон  Морковь немытая"
      ]
     },
     "execution_count": 177,
     "metadata": {},
     "output_type": "execute_result"
    }
   ],
   "source": [
    "data_count.head()"
   ]
  },
  {
   "cell_type": "code",
   "execution_count": 178,
   "metadata": {},
   "outputs": [],
   "source": [
    "data_count = data_count.rename(columns = {'count':'Встречаемость'})"
   ]
  },
  {
   "cell_type": "code",
   "execution_count": 179,
   "metadata": {},
   "outputs": [],
   "source": [
    "data_count = data_count[['1_Товар', '2_Товар', 'Встречаемость']]"
   ]
  },
  {
   "cell_type": "code",
   "execution_count": 180,
   "metadata": {},
   "outputs": [
    {
     "data": {
      "text/html": [
       "<div>\n",
       "<style scoped>\n",
       "    .dataframe tbody tr th:only-of-type {\n",
       "        vertical-align: middle;\n",
       "    }\n",
       "\n",
       "    .dataframe tbody tr th {\n",
       "        vertical-align: top;\n",
       "    }\n",
       "\n",
       "    .dataframe thead th {\n",
       "        text-align: right;\n",
       "    }\n",
       "</style>\n",
       "<table border=\"1\" class=\"dataframe\">\n",
       "  <thead>\n",
       "    <tr style=\"text-align: right;\">\n",
       "      <th></th>\n",
       "      <th>1_Товар</th>\n",
       "      <th>2_Товар</th>\n",
       "      <th>Встречаемость</th>\n",
       "    </tr>\n",
       "  </thead>\n",
       "  <tbody>\n",
       "    <tr>\n",
       "      <th>0</th>\n",
       "      <td>Лимон</td>\n",
       "      <td>Лимон оранжевый</td>\n",
       "      <td>31</td>\n",
       "    </tr>\n",
       "    <tr>\n",
       "      <th>1</th>\n",
       "      <td>Лимон</td>\n",
       "      <td>Лук репчатый</td>\n",
       "      <td>114</td>\n",
       "    </tr>\n",
       "    <tr>\n",
       "      <th>2</th>\n",
       "      <td>Лимон</td>\n",
       "      <td>Лук-порей</td>\n",
       "      <td>40</td>\n",
       "    </tr>\n",
       "    <tr>\n",
       "      <th>3</th>\n",
       "      <td>Лимон</td>\n",
       "      <td>Малина свежая</td>\n",
       "      <td>25</td>\n",
       "    </tr>\n",
       "    <tr>\n",
       "      <th>4</th>\n",
       "      <td>Лимон</td>\n",
       "      <td>Морковь немытая</td>\n",
       "      <td>80</td>\n",
       "    </tr>\n",
       "    <tr>\n",
       "      <th>...</th>\n",
       "      <td>...</td>\n",
       "      <td>...</td>\n",
       "      <td>...</td>\n",
       "    </tr>\n",
       "    <tr>\n",
       "      <th>19692</th>\n",
       "      <td>Букет \"Оранж\"</td>\n",
       "      <td>Пекан очищенный</td>\n",
       "      <td>7</td>\n",
       "    </tr>\n",
       "    <tr>\n",
       "      <th>19693</th>\n",
       "      <td>Алыча вяленая</td>\n",
       "      <td>Пекан очищенный</td>\n",
       "      <td>6</td>\n",
       "    </tr>\n",
       "    <tr>\n",
       "      <th>19694</th>\n",
       "      <td>Мангостин свежий</td>\n",
       "      <td>Тимьян (чабрец)</td>\n",
       "      <td>2</td>\n",
       "    </tr>\n",
       "    <tr>\n",
       "      <th>19695</th>\n",
       "      <td>Алыча вяленая</td>\n",
       "      <td>Тамарилло</td>\n",
       "      <td>2</td>\n",
       "    </tr>\n",
       "    <tr>\n",
       "      <th>19696</th>\n",
       "      <td>Капуста Кольраби</td>\n",
       "      <td>Подпись открытки</td>\n",
       "      <td>3</td>\n",
       "    </tr>\n",
       "  </tbody>\n",
       "</table>\n",
       "<p>19697 rows × 3 columns</p>\n",
       "</div>"
      ],
      "text/plain": [
       "                1_Товар           2_Товар  Встречаемость\n",
       "0                 Лимон   Лимон оранжевый             31\n",
       "1                 Лимон      Лук репчатый            114\n",
       "2                 Лимон         Лук-порей             40\n",
       "3                 Лимон     Малина свежая             25\n",
       "4                 Лимон   Морковь немытая             80\n",
       "...                 ...               ...            ...\n",
       "19692     Букет \"Оранж\"   Пекан очищенный              7\n",
       "19693     Алыча вяленая   Пекан очищенный              6\n",
       "19694  Мангостин свежий   Тимьян (чабрец)              2\n",
       "19695     Алыча вяленая         Тамарилло              2\n",
       "19696  Капуста Кольраби  Подпись открытки              3\n",
       "\n",
       "[19697 rows x 3 columns]"
      ]
     },
     "execution_count": 180,
     "metadata": {},
     "output_type": "execute_result"
    }
   ],
   "source": [
    "#результирующая таблица встречаемости пар одновременно покупаемых товаров\n",
    "\n",
    "data_count"
   ]
  },
  {
   "cell_type": "code",
   "execution_count": 181,
   "metadata": {},
   "outputs": [],
   "source": [
    "#Посмотрим, какие товары покупаются одновременно наиболее часто, для этого отсортируем паттерны по колонке встречаемости\n",
    "#по возрастанию\n",
    "\n",
    "data_count = data_count.sort_values(by = 'Встречаемость', ascending = False)"
   ]
  },
  {
   "cell_type": "code",
   "execution_count": 182,
   "metadata": {},
   "outputs": [
    {
     "data": {
      "text/html": [
       "<div>\n",
       "<style scoped>\n",
       "    .dataframe tbody tr th:only-of-type {\n",
       "        vertical-align: middle;\n",
       "    }\n",
       "\n",
       "    .dataframe tbody tr th {\n",
       "        vertical-align: top;\n",
       "    }\n",
       "\n",
       "    .dataframe thead th {\n",
       "        text-align: right;\n",
       "    }\n",
       "</style>\n",
       "<table border=\"1\" class=\"dataframe\">\n",
       "  <thead>\n",
       "    <tr style=\"text-align: right;\">\n",
       "      <th></th>\n",
       "      <th>1_Товар</th>\n",
       "      <th>2_Товар</th>\n",
       "      <th>Встречаемость</th>\n",
       "    </tr>\n",
       "  </thead>\n",
       "  <tbody>\n",
       "    <tr>\n",
       "      <th>266</th>\n",
       "      <td>Огурцы Луховицкие</td>\n",
       "      <td>Укроп</td>\n",
       "      <td>431</td>\n",
       "    </tr>\n",
       "    <tr>\n",
       "      <th>283</th>\n",
       "      <td>Петрушка</td>\n",
       "      <td>Укроп</td>\n",
       "      <td>408</td>\n",
       "    </tr>\n",
       "    <tr>\n",
       "      <th>3630</th>\n",
       "      <td>Арбуз</td>\n",
       "      <td>Огурцы Луховицкие</td>\n",
       "      <td>345</td>\n",
       "    </tr>\n",
       "    <tr>\n",
       "      <th>855</th>\n",
       "      <td>Кабачки</td>\n",
       "      <td>Огурцы Луховицкие</td>\n",
       "      <td>326</td>\n",
       "    </tr>\n",
       "    <tr>\n",
       "      <th>480</th>\n",
       "      <td>Кинза</td>\n",
       "      <td>Укроп</td>\n",
       "      <td>303</td>\n",
       "    </tr>\n",
       "  </tbody>\n",
       "</table>\n",
       "</div>"
      ],
      "text/plain": [
       "                1_Товар            2_Товар  Встречаемость\n",
       "266   Огурцы Луховицкие              Укроп            431\n",
       "283            Петрушка              Укроп            408\n",
       "3630              Арбуз  Огурцы Луховицкие            345\n",
       "855             Кабачки  Огурцы Луховицкие            326\n",
       "480               Кинза              Укроп            303"
      ]
     },
     "execution_count": 182,
     "metadata": {},
     "output_type": "execute_result"
    }
   ],
   "source": [
    "#топ 5 наиболее распространенных паттернов одновременных покупок\n",
    "\n",
    "data_count.head(5)"
   ]
  },
  {
   "cell_type": "markdown",
   "metadata": {},
   "source": [
    "## 4 - Выводы\n",
    "\n",
    "Топ 5 паттернов - пары продуктов, одновременно купленных более 300 раз.\n",
    "Эти патеррны состоят из наиболее распространенных и часто покупаемых трав и овощей: укроп, лук, петрушка, кинза, огурцы.\n",
    "Чаще всего продуктовые магазины имеют специализированные овощные отделы, холодильники с травами целесообразно располагать в непосредственной близости от них для удобства покупателей."
   ]
  },
  {
   "cell_type": "code",
   "execution_count": 183,
   "metadata": {},
   "outputs": [
    {
     "data": {
      "text/plain": [
       "count    19697.000000\n",
       "mean        19.551708\n",
       "std         19.821458\n",
       "min          1.000000\n",
       "25%         10.000000\n",
       "50%         14.000000\n",
       "75%         22.000000\n",
       "max        431.000000\n",
       "Name: Встречаемость, dtype: float64"
      ]
     },
     "execution_count": 183,
     "metadata": {},
     "output_type": "execute_result"
    }
   ],
   "source": [
    "#посмотрим на общую статистику по колонке Встречаемость\n",
    "\n",
    "data_count['Встречаемость'].describe()"
   ]
  },
  {
   "cell_type": "markdown",
   "metadata": {},
   "source": [
    "Средняя встречаемость паттернов составляет 19 (среднее), 14 (медиана)"
   ]
  },
  {
   "cell_type": "markdown",
   "metadata": {},
   "source": [
    "Для более подробного изучения парных покупок создадим новую таблицу и добавим в нее колонку с разделением частоты встречаемости паттернов в покупках на группы:\n",
    " - менее 10 раз\n",
    " - 10-20\n",
    " - 20-50\n",
    " - 50-100\n",
    " - более 100\n",
    "    "
   ]
  },
  {
   "cell_type": "code",
   "execution_count": 184,
   "metadata": {},
   "outputs": [],
   "source": [
    "data_count_cat = data_count"
   ]
  },
  {
   "cell_type": "code",
   "execution_count": 185,
   "metadata": {},
   "outputs": [],
   "source": [
    "labels=[\"менее 10 раз\", \"10-20\", \"20-50\", \"50-100\",\"более 100 раз\"]\n",
    "bins=[-np.inf,10,20,50,100, np.inf]\n",
    "data_count_cat['Группа'] = pd.cut(data_count_cat['Встречаемость'], bins=bins, labels=labels,right=False) "
   ]
  },
  {
   "cell_type": "code",
   "execution_count": 186,
   "metadata": {},
   "outputs": [
    {
     "data": {
      "text/html": [
       "<div>\n",
       "<style scoped>\n",
       "    .dataframe tbody tr th:only-of-type {\n",
       "        vertical-align: middle;\n",
       "    }\n",
       "\n",
       "    .dataframe tbody tr th {\n",
       "        vertical-align: top;\n",
       "    }\n",
       "\n",
       "    .dataframe thead th {\n",
       "        text-align: right;\n",
       "    }\n",
       "</style>\n",
       "<table border=\"1\" class=\"dataframe\">\n",
       "  <thead>\n",
       "    <tr style=\"text-align: right;\">\n",
       "      <th></th>\n",
       "      <th>1_Товар</th>\n",
       "      <th>2_Товар</th>\n",
       "      <th>Встречаемость</th>\n",
       "      <th>Группа</th>\n",
       "    </tr>\n",
       "  </thead>\n",
       "  <tbody>\n",
       "    <tr>\n",
       "      <th>266</th>\n",
       "      <td>Огурцы Луховицкие</td>\n",
       "      <td>Укроп</td>\n",
       "      <td>431</td>\n",
       "      <td>более 100 раз</td>\n",
       "    </tr>\n",
       "    <tr>\n",
       "      <th>283</th>\n",
       "      <td>Петрушка</td>\n",
       "      <td>Укроп</td>\n",
       "      <td>408</td>\n",
       "      <td>более 100 раз</td>\n",
       "    </tr>\n",
       "    <tr>\n",
       "      <th>3630</th>\n",
       "      <td>Арбуз</td>\n",
       "      <td>Огурцы Луховицкие</td>\n",
       "      <td>345</td>\n",
       "      <td>более 100 раз</td>\n",
       "    </tr>\n",
       "    <tr>\n",
       "      <th>855</th>\n",
       "      <td>Кабачки</td>\n",
       "      <td>Огурцы Луховицкие</td>\n",
       "      <td>326</td>\n",
       "      <td>более 100 раз</td>\n",
       "    </tr>\n",
       "    <tr>\n",
       "      <th>480</th>\n",
       "      <td>Кинза</td>\n",
       "      <td>Укроп</td>\n",
       "      <td>303</td>\n",
       "      <td>более 100 раз</td>\n",
       "    </tr>\n",
       "    <tr>\n",
       "      <th>234</th>\n",
       "      <td>Лук зеленый</td>\n",
       "      <td>Укроп</td>\n",
       "      <td>300</td>\n",
       "      <td>более 100 раз</td>\n",
       "    </tr>\n",
       "    <tr>\n",
       "      <th>261</th>\n",
       "      <td>Огурцы Луховицкие</td>\n",
       "      <td>Петрушка</td>\n",
       "      <td>286</td>\n",
       "      <td>более 100 раз</td>\n",
       "    </tr>\n",
       "    <tr>\n",
       "      <th>238</th>\n",
       "      <td>Лук репчатый</td>\n",
       "      <td>Огурцы Луховицкие</td>\n",
       "      <td>285</td>\n",
       "      <td>более 100 раз</td>\n",
       "    </tr>\n",
       "    <tr>\n",
       "      <th>573</th>\n",
       "      <td>Баклажаны грунтовые</td>\n",
       "      <td>Кабачки</td>\n",
       "      <td>284</td>\n",
       "      <td>более 100 раз</td>\n",
       "    </tr>\n",
       "    <tr>\n",
       "      <th>463</th>\n",
       "      <td>Кабачки</td>\n",
       "      <td>Укроп</td>\n",
       "      <td>281</td>\n",
       "      <td>более 100 раз</td>\n",
       "    </tr>\n",
       "    <tr>\n",
       "      <th>841</th>\n",
       "      <td>Баклажаны грунтовые</td>\n",
       "      <td>Огурцы Луховицкие</td>\n",
       "      <td>276</td>\n",
       "      <td>более 100 раз</td>\n",
       "    </tr>\n",
       "    <tr>\n",
       "      <th>417</th>\n",
       "      <td>Арбуз</td>\n",
       "      <td>Укроп</td>\n",
       "      <td>274</td>\n",
       "      <td>более 100 раз</td>\n",
       "    </tr>\n",
       "    <tr>\n",
       "      <th>245</th>\n",
       "      <td>Лук репчатый</td>\n",
       "      <td>Укроп</td>\n",
       "      <td>272</td>\n",
       "      <td>более 100 раз</td>\n",
       "    </tr>\n",
       "    <tr>\n",
       "      <th>263</th>\n",
       "      <td>Огурцы Луховицкие</td>\n",
       "      <td>Помидоры Парадайз</td>\n",
       "      <td>266</td>\n",
       "      <td>более 100 раз</td>\n",
       "    </tr>\n",
       "    <tr>\n",
       "      <th>848</th>\n",
       "      <td>Баклажаны грунтовые</td>\n",
       "      <td>Укроп</td>\n",
       "      <td>265</td>\n",
       "      <td>более 100 раз</td>\n",
       "    </tr>\n",
       "  </tbody>\n",
       "</table>\n",
       "</div>"
      ],
      "text/plain": [
       "                  1_Товар            2_Товар  Встречаемость         Группа\n",
       "266     Огурцы Луховицкие              Укроп            431  более 100 раз\n",
       "283              Петрушка              Укроп            408  более 100 раз\n",
       "3630                Арбуз  Огурцы Луховицкие            345  более 100 раз\n",
       "855               Кабачки  Огурцы Луховицкие            326  более 100 раз\n",
       "480                 Кинза              Укроп            303  более 100 раз\n",
       "234           Лук зеленый              Укроп            300  более 100 раз\n",
       "261     Огурцы Луховицкие           Петрушка            286  более 100 раз\n",
       "238          Лук репчатый  Огурцы Луховицкие            285  более 100 раз\n",
       "573   Баклажаны грунтовые            Кабачки            284  более 100 раз\n",
       "463               Кабачки              Укроп            281  более 100 раз\n",
       "841   Баклажаны грунтовые  Огурцы Луховицкие            276  более 100 раз\n",
       "417                 Арбуз              Укроп            274  более 100 раз\n",
       "245          Лук репчатый              Укроп            272  более 100 раз\n",
       "263     Огурцы Луховицкие  Помидоры Парадайз            266  более 100 раз\n",
       "848   Баклажаны грунтовые              Укроп            265  более 100 раз"
      ]
     },
     "execution_count": 186,
     "metadata": {},
     "output_type": "execute_result"
    }
   ],
   "source": [
    "data_count_cat.head(15)"
   ]
  },
  {
   "cell_type": "code",
   "execution_count": 187,
   "metadata": {},
   "outputs": [],
   "source": [
    "#посмотрим на частоту встречаемость выделенных групп\n",
    "\n",
    "data_tab = data_count_cat['Группа'].value_counts()"
   ]
  },
  {
   "cell_type": "code",
   "execution_count": 188,
   "metadata": {},
   "outputs": [
    {
     "data": {
      "text/plain": [
       "более 100 раз     189\n",
       "50-100            869\n",
       "менее 10 раз     4452\n",
       "20-50            4698\n",
       "10-20            9489\n",
       "Name: Группа, dtype: int64"
      ]
     },
     "execution_count": 188,
     "metadata": {},
     "output_type": "execute_result"
    }
   ],
   "source": [
    "data_tab.sort_values()"
   ]
  },
  {
   "cell_type": "code",
   "execution_count": 193,
   "metadata": {},
   "outputs": [
    {
     "data": {
      "image/png": "[encoded data removed]",
      "text/plain": [
       "<Figure size 432x288 with 1 Axes>"
      ]
     },
     "metadata": {},
     "output_type": "display_data"
    }
   ],
   "source": [
    "ax = sns.countplot(x=\"Группа\", data=data_count_cat, palette=\"coolwarm\")\n",
    "ax.set(xlabel=\"Группа\", ylabel = \"Количество\", title=\"Встречаемость паттернов по группам\")\n",
    "vals = ax.get_yticks()"
   ]
  },
  {
   "cell_type": "markdown",
   "metadata": {},
   "source": [
    "Из графика видно, что наиболее многочисленная группа паттернов - пары товаров, которые купили 10-20 раз.\n",
    "Группа паттернов, которые купили одновременно более 100 раз - наименее многочисленная.\n",
    "Другими словами - люди часто покупают одновременно не очень много групп товаров, чаще всего эти группы состоят из пары овощи (огурцы, кабачки, помидоры) + травы или наиболее популярных трав (лук, петрушка и т.д.). "
   ]
  }
 ],
 "metadata": {
  "celltoolbar": "Raw Cell Format",
  "kernelspec": {
   "display_name": "Python 3",
   "language": "python",
   "name": "python3"
  },
  "language_info": {
   "codemirror_mode": {
    "name": "ipython",
    "version": 3
   },
   "file_extension": ".py",
   "mimetype": "text/x-python",
   "name": "python",
   "nbconvert_exporter": "python",
   "pygments_lexer": "ipython3",
   "version": "3.7.6"
  }
 },
 "nbformat": 4,
 "nbformat_minor": 4
}
